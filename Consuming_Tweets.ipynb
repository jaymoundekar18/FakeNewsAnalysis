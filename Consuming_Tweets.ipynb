{
 "cells": [
  {
   "cell_type": "code",
   "execution_count": 13,
   "id": "68665383",
   "metadata": {},
   "outputs": [],
   "source": [
    "from confluent_kafka import Consumer, KafkaError\n",
    "import pandas as pd\n",
    "\n",
    "# Kafka bootstrap servers\n",
    "bootstrap_servers = 'localhost:9092'\n",
    "\n",
    "# Create Kafka consumer configuration\n",
    "conf = {'bootstrap.servers': bootstrap_servers, 'group.id': 'my_consumer_group', 'auto.offset.reset': 'earliest'}\n",
    "\n",
    "# Kafka topic to consume messages from\n",
    "topic = 'twitter'\n",
    "\n",
    "# Create Kafka consumer instance\n",
    "consumer = Consumer(conf)\n",
    "\n",
    "# Subscribe to the Kafka topic\n",
    "consumer.subscribe([topic])\n",
    "\n",
    "# List to store consumed messages\n",
    "messages = []\n",
    "\n",
    "n1=100\n",
    "n=0\n",
    "\n"
   ]
  },
  {
   "cell_type": "code",
   "execution_count": 14,
   "id": "faebc172",
   "metadata": {},
   "outputs": [],
   "source": [
    "\n",
    "# Consume messages\n",
    "while n<n1:\n",
    "    msg = consumer.poll(1.0)  # 1-second timeout\n",
    "    if msg is None:\n",
    "        continue\n",
    "    if msg.error():\n",
    "        if msg.error().code() == KafkaError._PARTITION_EOF:\n",
    "            # End of partition event\n",
    "            continue\n",
    "        else:\n",
    "            print(f\"Error: {msg.error()}\")\n",
    "            break\n",
    "\n",
    "    # Process the received message\n",
    "    messages.append(msg.value().decode('utf-8'))\n",
    "\n",
    "    # Break after receiving one message\n",
    "    n+=1\n",
    "\n",
    "# Close the Kafka consumer\n",
    "consumer.close()\n",
    "\n"
   ]
  },
  {
   "cell_type": "code",
   "execution_count": 15,
   "id": "2a6f12dc",
   "metadata": {},
   "outputs": [
    {
     "name": "stdout",
     "output_type": "stream",
     "text": [
      "                                              Message\n",
      "0                                 #FarmersProtest2024\n",
      "1                  #FarmersProtest2024 old but funny.\n",
      "2   #FarmersProtest2024 sarkar ka kehna hai ki kis...\n",
      "3                                 #FarmersProtest2024\n",
      "4                                 #FarmersProtest2024\n",
      "..                                                ...\n",
      "95  \"ये सरकार अगर अटल-आडवाणी की होती तो हमारी बात ...\n",
      "96  \"अपने ट्रैक्टरों को भी मज़बूत रखना, हम एमएसपी ...\n",
      "97  राकेश टिकैत कह रहे हैं कि इस बार किसान ग़ाज़ीप...\n",
      "98  इस बार 'ट्रैक्टर' से कैसे मिलेगी MSP? जानें Ne...\n",
      "99  इस बार ऐसा आंदोलन खड़ा किया जाएगा जो 13 महीने ...\n",
      "\n",
      "[100 rows x 1 columns]\n"
     ]
    }
   ],
   "source": [
    "# Convert messages list to DataFrame\n",
    "df = pd.DataFrame(messages, columns=['Message'])\n",
    "\n",
    "# Display the DataFrame\n",
    "print(df)"
   ]
  },
  {
   "cell_type": "code",
   "execution_count": 43,
   "id": "a1cc8ded",
   "metadata": {},
   "outputs": [
    {
     "data": {
      "text/html": [
       "<div>\n",
       "<style scoped>\n",
       "    .dataframe tbody tr th:only-of-type {\n",
       "        vertical-align: middle;\n",
       "    }\n",
       "\n",
       "    .dataframe tbody tr th {\n",
       "        vertical-align: top;\n",
       "    }\n",
       "\n",
       "    .dataframe thead th {\n",
       "        text-align: right;\n",
       "    }\n",
       "</style>\n",
       "<table border=\"1\" class=\"dataframe\">\n",
       "  <thead>\n",
       "    <tr style=\"text-align: right;\">\n",
       "      <th></th>\n",
       "      <th>Message</th>\n",
       "    </tr>\n",
       "  </thead>\n",
       "  <tbody>\n",
       "    <tr>\n",
       "      <th>0</th>\n",
       "      <td>#FarmersProtest2024</td>\n",
       "    </tr>\n",
       "    <tr>\n",
       "      <th>1</th>\n",
       "      <td>#FarmersProtest2024 old but funny.</td>\n",
       "    </tr>\n",
       "    <tr>\n",
       "      <th>2</th>\n",
       "      <td>#FarmersProtest2024 sarkar ka kehna hai ki kis...</td>\n",
       "    </tr>\n",
       "    <tr>\n",
       "      <th>3</th>\n",
       "      <td>#FarmersProtest2024</td>\n",
       "    </tr>\n",
       "    <tr>\n",
       "      <th>4</th>\n",
       "      <td>#FarmersProtest2024</td>\n",
       "    </tr>\n",
       "  </tbody>\n",
       "</table>\n",
       "</div>"
      ],
      "text/plain": [
       "                                             Message\n",
       "0                                #FarmersProtest2024\n",
       "1                 #FarmersProtest2024 old but funny.\n",
       "2  #FarmersProtest2024 sarkar ka kehna hai ki kis...\n",
       "3                                #FarmersProtest2024\n",
       "4                                #FarmersProtest2024"
      ]
     },
     "execution_count": 43,
     "metadata": {},
     "output_type": "execute_result"
    }
   ],
   "source": [
    "df.head()"
   ]
  },
  {
   "cell_type": "code",
   "execution_count": 45,
   "id": "b622f3bc",
   "metadata": {},
   "outputs": [],
   "source": [
    "df.to_csv('Data.csv')"
   ]
  },
  {
   "cell_type": "code",
   "execution_count": null,
   "id": "c944a41c",
   "metadata": {},
   "outputs": [],
   "source": []
  }
 ],
 "metadata": {
  "kernelspec": {
   "display_name": "Python 3 (ipykernel)",
   "language": "python",
   "name": "python3"
  },
  "language_info": {
   "codemirror_mode": {
    "name": "ipython",
    "version": 3
   },
   "file_extension": ".py",
   "mimetype": "text/x-python",
   "name": "python",
   "nbconvert_exporter": "python",
   "pygments_lexer": "ipython3",
   "version": "3.9.13"
  }
 },
 "nbformat": 4,
 "nbformat_minor": 5
}
